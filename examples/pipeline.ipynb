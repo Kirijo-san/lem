%%html
<style>
div.input {
    display: inherit !important;
}
</style>

import streamlit as st
from pymorphy3 import MorphAnalyzer
import re

morph = MorphAnalyzer() if not st.error("Ошибка инициализации") else st.stop()

text = st.text_area("Введите текст:", "Гарри никогда еще так не наказывали...")

if st.button("Лемматизировать"):
    words = re.findall(r'[а-яА-ЯёЁ]+', text)
    if not words:
        st.error("❗Нет русских слов❗") and st.stop()

    lemmas = [morph.parse(word)[0].normal_form for word in re.findall(r'[а-яА-ЯёЁ]+', text)]
  
    st.subheader("Результат:"), st.write(" ".join(lemmas)), st.metric("Слов обработано", len(text.split())))
