def preprocess(text: str) -> list[str]:
    text = re.sub(r'[^а-яА-ЯёЁ\s]', '', text)
    return text.lower().split()
  
def filter(words: list[str]) -> list[str]:
    return [word for word in words if re.fullmatch(r'[а-яё]+', word)]

def lemmatize(words: list[str], morph: MorphAnalyzer) -> list[str]:
    lemmas = []
    for word in words:
        try:
            parsed = morph.parse(word)[0]
            lemmas.append(parsed.normal_form)
        except:
            lemmas.append(word)
    return lemmas

def postprocess(lemmas: list[str]) -> str:
    return ' '.join(lemmas)
